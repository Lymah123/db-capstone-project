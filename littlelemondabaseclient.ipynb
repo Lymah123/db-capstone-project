{
 "cells": [
  {
   "cell_type": "code",
   "execution_count": 1,
   "id": "e1ba9f0a",
   "metadata": {},
   "outputs": [
    {
     "name": "stdout",
     "output_type": "stream",
     "text": [
      "Requirement already satisfied: mysql-connector-python in c:\\users\\user\\untitled folder\\condaaaaa\\envs\\myenv\\lib\\site-packages (8.1.0)\n",
      "Requirement already satisfied: protobuf<=4.21.12,>=4.21.1 in c:\\users\\user\\untitled folder\\condaaaaa\\envs\\myenv\\lib\\site-packages (from mysql-connector-python) (4.21.12)\n",
      "Note: you may need to restart the kernel to use updated packages.\n"
     ]
    }
   ],
   "source": [
    "pip install mysql-connector-python"
   ]
  },
  {
   "cell_type": "code",
   "execution_count": 1,
   "id": "c3cd6767",
   "metadata": {},
   "outputs": [],
   "source": [
    "import mysql.connector as connector\n"
   ]
  },
  {
   "cell_type": "code",
   "execution_count": 6,
   "id": "19e0c9aa",
   "metadata": {},
   "outputs": [],
   "source": [
    "connection=connector.connect(\n",
    "                             user=\"root\", \n",
    "                             password=\"Fimihan@2021\", \n",
    "                            )"
   ]
  },
  {
   "cell_type": "code",
   "execution_count": 7,
   "id": "c11a86fb",
   "metadata": {},
   "outputs": [],
   "source": [
    "cursor = connection.cursor()\n"
   ]
  },
  {
   "cell_type": "code",
   "execution_count": 8,
   "id": "f3705ec4",
   "metadata": {},
   "outputs": [
    {
     "name": "stdout",
     "output_type": "stream",
     "text": [
      "The database little_lemon is created.\n",
      "\n"
     ]
    }
   ],
   "source": [
    "try:\n",
    "    cursor.execute(\"CREATE DATABASE little_lemon\")\n",
    "except:\n",
    "    cursor.execute(\"drop database little_lemon\")\n",
    "    cursor.execute(\"CREATE DATABASE little_lemon\")\n",
    "print(\"The database little_lemon is created.\\n\") "
   ]
  },
  {
   "cell_type": "code",
   "execution_count": 9,
   "id": "d76e40f5",
   "metadata": {},
   "outputs": [
    {
     "name": "stdout",
     "output_type": "stream",
     "text": [
      "The database little_lemon is set for use.\n",
      "\n"
     ]
    }
   ],
   "source": [
    "cursor.execute(\"USE little_lemon\")\n",
    "print(\"The database little_lemon is set for use.\\n\")"
   ]
  },
  {
   "cell_type": "code",
   "execution_count": 11,
   "id": "dbb1ea98",
   "metadata": {},
   "outputs": [],
   "source": [
    "create_menuitem_table=\"\"\"\n",
    "CREATE TABLE MenuItems (\n",
    "ItemID INT AUTO_INCREMENT,\n",
    "Name VARCHAR(200),\n",
    "Type VARCHAR(100),\n",
    "Price INT,\n",
    "PRIMARY KEY (ItemID)\n",
    ");\"\"\""
   ]
  },
  {
   "cell_type": "code",
   "execution_count": 12,
   "id": "9a3544f0",
   "metadata": {},
   "outputs": [
    {
     "name": "stdout",
     "output_type": "stream",
     "text": [
      "MenuItmes table is created.\n",
      "\n"
     ]
    }
   ],
   "source": [
    "cursor.execute(create_menuitem_table)\n",
    "print(\"MenuItmes table is created.\\n\")"
   ]
  },
  {
   "cell_type": "code",
   "execution_count": 14,
   "id": "b8fc5598",
   "metadata": {},
   "outputs": [],
   "source": [
    "create_menu_table=\"\"\"\n",
    "CREATE TABLE Menus (\n",
    "MenuID INT,\n",
    "ItemID INT,\n",
    "Cuisine VARCHAR(100),\n",
    "PRIMARY KEY (MenuID,ItemID)\n",
    ");\"\"\"\n"
   ]
  },
  {
   "cell_type": "code",
   "execution_count": 15,
   "id": "f6833ff9",
   "metadata": {},
   "outputs": [
    {
     "name": "stdout",
     "output_type": "stream",
     "text": [
      "Menu table is created.\n",
      "\n"
     ]
    }
   ],
   "source": [
    "cursor.execute(create_menu_table)\n",
    "print(\"Menu table is created.\\n\")"
   ]
  },
  {
   "cell_type": "code",
   "execution_count": 16,
   "id": "236f91e6",
   "metadata": {},
   "outputs": [],
   "source": [
    "create_booking_table=\"\"\"\n",
    "CREATE TABLE Bookings (\n",
    "BookingID INT AUTO_INCREMENT,\n",
    "TableNo INT,\n",
    "GuestFirstName VARCHAR(100) NOT NULL,\n",
    "GuestLastName VARCHAR(100) NOT NULL,\n",
    "BookingSlot TIME NOT NULL,\n",
    "EmployeeID INT,\n",
    "PRIMARY KEY (BookingID)\n",
    ");\"\"\""
   ]
  },
  {
   "cell_type": "code",
   "execution_count": 17,
   "id": "07da771c",
   "metadata": {},
   "outputs": [
    {
     "name": "stdout",
     "output_type": "stream",
     "text": [
      "Bookings table is created.\n",
      "\n"
     ]
    }
   ],
   "source": [
    "cursor.execute(create_booking_table)\n",
    "print(\"Bookings table is created.\\n\")"
   ]
  },
  {
   "cell_type": "code",
   "execution_count": 18,
   "id": "ef6252dc",
   "metadata": {},
   "outputs": [],
   "source": [
    "create_orders_table=\"\"\"\n",
    "CREATE TABLE Orders (\n",
    "OrderID INT,\n",
    "TableNo INT,\n",
    "MenuID INT,\n",
    "BookingID INT,\n",
    "BillAmount INT,\n",
    "Quantity INT,\n",
    "PRIMARY KEY (OrderID,TableNo)\n",
    ");\"\"\""
   ]
  },
  {
   "cell_type": "code",
   "execution_count": 19,
   "id": "914148cd",
   "metadata": {},
   "outputs": [
    {
     "name": "stdout",
     "output_type": "stream",
     "text": [
      "Orders table is created.\n",
      "\n"
     ]
    }
   ],
   "source": [
    "cursor.execute(create_orders_table)\n",
    "print(\"Orders table is created.\\n\")"
   ]
  },
  {
   "cell_type": "code",
   "execution_count": 20,
   "id": "f64af275",
   "metadata": {},
   "outputs": [
    {
     "name": "stdout",
     "output_type": "stream",
     "text": [
      "Following tables are created in the little_lemon database.\n",
      "\n",
      "('bookings',)\n",
      "('menuitems',)\n",
      "('menus',)\n",
      "('orders',)\n"
     ]
    }
   ],
   "source": [
    "print(\"Following tables are created in the little_lemon database.\\n\")\n",
    "cursor.execute(\"SHOW TABLES\")\n",
    "for table in cursor:\n",
    "    print(table)"
   ]
  },
  {
   "cell_type": "code",
   "execution_count": 21,
   "id": "6d4bb5f9",
   "metadata": {},
   "outputs": [],
   "source": [
    "insert_bookings=\"\"\"\n",
    "INSERT INTO Bookings (BookingID, TableNo, GuestFirstName, \n",
    "GuestLastName, BookingSlot, EmployeeID)\n",
    "VALUES\n",
    "(1,12,'Anna','Iversen','19:00:00',1),\n",
    "(2, 12, 'Joakim', 'Iversen', '19:00:00', 1),\n",
    "(3, 19, 'Vanessa', 'McCarthy', '15:00:00', 3),\n",
    "(4, 15, 'Marcos', 'Romero', '17:30:00', 4),\n",
    "(5, 5, 'Hiroki', 'Yamane', '18:30:00', 2),\n",
    "(6, 8, 'Diana', 'Pinto', '20:00:00', 5);\"\"\""
   ]
  },
  {
   "cell_type": "code",
   "execution_count": 29,
   "id": "bc957b08",
   "metadata": {},
   "outputs": [],
   "source": [
    "insert_menuitmes=\"\"\"\n",
    "INSERT INTO MenuItems (ItemID, Name, Type, Price)\n",
    "VALUES\n",
    "(1,'Olives','Starters',5),\n",
    "(2,'Flatbread','Starters', 5),\n",
    "(3, 'Minestrone', 'Starters', 8),\n",
    "(4, 'Tomato bread','Starters', 8),\n",
    "(5, 'Falafel', 'Starters', 7),\n",
    "(6, 'Hummus', 'Starters', 5),\n",
    "(7, 'Greek salad', 'Main Courses', 15),\n",
    "(8, 'Bean soup', 'Main Courses', 12),\n",
    "(9, 'Pizza', 'Main Courses', 15),\n",
    "(10,'Greek yoghurt','Desserts', 7),\n",
    "(11, 'Ice cream', 'Desserts', 6),\n",
    "(12, 'Cheesecake', 'Desserts', 4),\n",
    "(13, 'Athens White wine', 'Drinks', 25),\n",
    "(14, 'Corfu Red Wine', 'Drinks', 30),\n",
    "(15, 'Turkish Coffee', 'Drinks', 10),\n",
    "(16, 'Turkish Coffee', 'Drinks', 10),\n",
    "(17, 'Kabasa', 'Main Courses', 17);\"\"\"\n"
   ]
  },
  {
   "cell_type": "code",
   "execution_count": 30,
   "id": "fcb4dbcf",
   "metadata": {},
   "outputs": [],
   "source": [
    "insert_menu=\"\"\"\n",
    "INSERT INTO Menus (MenuID,ItemID,Cuisine)\n",
    "VALUES\n",
    "(1, 1, 'Greek'),\n",
    "(1, 7, 'Greek'),\n",
    "(1, 10, 'Greek'),\n",
    "(1, 13, 'Greek'),\n",
    "(2, 3, 'Italian'),\n",
    "(2, 9, 'Italian'),\n",
    "(2, 12, 'Italian'),\n",
    "(2, 15, 'Italian'),\n",
    "(3, 5, 'Turkish'),\n",
    "(3, 17, 'Turkish'),\n",
    "(3, 11, 'Turkish'),\n",
    "(3, 16, 'Turkish');\"\"\""
   ]
  },
  {
   "cell_type": "code",
   "execution_count": 31,
   "id": "41af9fa0",
   "metadata": {},
   "outputs": [],
   "source": [
    "insert_orders=\"\"\"\n",
    "INSERT INTO Orders (OrderID, TableNo, MenuID, BookingID, Quantity, BillAmount)\n",
    "VALUES\n",
    "(1, 12, 1, 1, 2, 86),\n",
    "(2, 19, 2, 2, 1, 37),\n",
    "(3, 15, 2, 3, 1, 37),\n",
    "(4, 5, 3, 4, 1, 40),\n",
    "(5, 8, 1, 5, 1, 43);\"\"\""
   ]
  },
  {
   "cell_type": "code",
   "execution_count": 32,
   "id": "495cd74d",
   "metadata": {},
   "outputs": [
    {
     "name": "stdout",
     "output_type": "stream",
     "text": [
      "Inserting data in MenuItems table.\n",
      "Total number of rows in MenuItem table:  17\n",
      "Inserting data in Menus table.\n",
      "Total number of rows in Menu table:  12\n",
      "Inserting data in Bookings table.\n",
      "Total number of rows in Bookings table:  6\n",
      "Inserting data in Orders table.\n",
      "Total number of rows in Orders table:  5\n"
     ]
    }
   ],
   "source": [
    "print(\"Inserting data in MenuItems table.\")\n",
    "# Populate MenuItems table\n",
    "cursor.execute(insert_menuitmes)\n",
    "print(\"Total number of rows in MenuItem table: \", cursor.rowcount)\n",
    "# Once the query is executed, you commit the change into the database \n",
    "connection.commit()\n",
    "\n",
    "print(\"Inserting data in Menus table.\")\n",
    "# Populate MenuItems table\n",
    "cursor.execute(insert_menu)\n",
    "print(\"Total number of rows in Menu table: \", cursor.rowcount)\n",
    "connection.commit()\n",
    "\n",
    "print(\"Inserting data in Bookings table.\")\n",
    "# Populate Bookings table\n",
    "cursor.execute(insert_bookings)\n",
    "print(\"Total number of rows in Bookings table: \", cursor.rowcount)\n",
    "connection.commit()\n",
    "\n",
    "print(\"Inserting data in Orders table.\")\n",
    "# Populate Orders table\n",
    "cursor.execute(insert_orders)\n",
    "print(\"Total number of rows in Orders table: \", cursor.rowcount)\n",
    "connection.commit()"
   ]
  },
  {
   "cell_type": "code",
   "execution_count": null,
   "id": "74948dd6",
   "metadata": {},
   "outputs": [],
   "source": []
  },
  {
   "cell_type": "code",
   "execution_count": 33,
   "id": "4cf68b81",
   "metadata": {},
   "outputs": [
    {
     "name": "stdout",
     "output_type": "stream",
     "text": [
      "Data in the \"Bookings\" table:\n",
      "('GuestFirstName', 'GuestLastName', 'TableNo')\n",
      "('Anna', 'Iversen', 12)\n",
      "('Joakim', 'Iversen', 12)\n",
      "('Vanessa', 'McCarthy', 19)\n",
      "('Marcos', 'Romero', 15)\n",
      "('Hiroki', 'Yamane', 5)\n",
      "('Diana', 'Pinto', 8)\n"
     ]
    }
   ],
   "source": [
    "# Read query is:\n",
    "all_bookings = \"\"\"SELECT GuestFirstName, GuestLastName, \n",
    "TableNo FROM bookings;\"\"\"\n",
    "\n",
    "# Eexecute query \n",
    "cursor.execute(all_bookings)\n",
    "\n",
    "# Fetch all results that satisfy the query \n",
    "results = cursor.fetchall()\n",
    "\n",
    "# Retrieve column names\n",
    "cols = cursor.column_names\n",
    "\n",
    "# Print column names and records from results using for loop\n",
    "print(\"\"\"Data in the \"Bookings\" table:\"\"\")\n",
    "print(cols)\n",
    "for result in results:\n",
    "    print(result)"
   ]
  },
  {
   "cell_type": "code",
   "execution_count": 34,
   "id": "02d3a86f",
   "metadata": {},
   "outputs": [
    {
     "name": "stdout",
     "output_type": "stream",
     "text": [
      "Data in the \"Menu\" table:\n",
      "('MenuID', 'ItemID', 'Cuisine')\n",
      "(1, 1, 'Greek')\n",
      "(1, 7, 'Greek')\n",
      "(1, 10, 'Greek')\n"
     ]
    }
   ],
   "source": [
    "# Query to retrieve all bookings is: \n",
    "all_menus = \"\"\"SELECT * FROM Menus;\"\"\"\n",
    "\n",
    "# Execute query \n",
    "cursor.execute(all_menus)\n",
    "\n",
    "# Fetch fist 3 records in results\n",
    "results = cursor.fetchmany(size=3)\n",
    "\n",
    "# Retrieve column names\n",
    "cols = cursor.column_names\n",
    "\n",
    "# Print column names and records from results using for loop\n",
    "print(\"\"\"Data in the \"Menu\" table:\"\"\")\n",
    "print(cols)\n",
    "for result in results:\n",
    "    print(result)"
   ]
  },
  {
   "cell_type": "code",
   "execution_count": 35,
   "id": "8cd75640",
   "metadata": {},
   "outputs": [
    {
     "name": "stdout",
     "output_type": "stream",
     "text": [
      "(1, 13, 'Greek')\n",
      "(2, 3, 'Italian')\n",
      "(2, 9, 'Italian')\n",
      "(2, 12, 'Italian')\n",
      "(2, 15, 'Italian')\n",
      "(3, 5, 'Turkish')\n",
      "(3, 11, 'Turkish')\n",
      "(3, 16, 'Turkish')\n",
      "(3, 17, 'Turkish')\n"
     ]
    }
   ],
   "source": [
    "# Remaining records after fetching the first three\n",
    "results= cursor.fetchall()\n",
    "for result in results:\n",
    "    print(result)"
   ]
  },
  {
   "cell_type": "code",
   "execution_count": null,
   "id": "60d08658",
   "metadata": {},
   "outputs": [],
   "source": []
  },
  {
   "cell_type": "code",
   "execution_count": 36,
   "id": "1f765b68",
   "metadata": {},
   "outputs": [
    {
     "name": "stdout",
     "output_type": "stream",
     "text": [
      "Data in the \"Menu\" table:\n",
      "('MenuID', 'ItemID', 'Cuisine')\n",
      "(1, 1, 'Greek')\n",
      "(1, 7, 'Greek')\n",
      "(1, 10, 'Greek')\n"
     ]
    }
   ],
   "source": [
    "# Query to retrieve only first three records from the bookings table is: #Option 2\n",
    "all_menus = \"\"\"SELECT * FROM Menus LIMIT 3;\"\"\"\n",
    "\n",
    "# Execute query \n",
    "cursor.execute(all_menus)\n",
    "\n",
    "# Fetch fist 3 records in results\n",
    "results = cursor.fetchall()   \n",
    "\n",
    "# Retrieve column names\n",
    "cols = cursor.column_names\n",
    "\n",
    "# Print column names and records from results using for loop\n",
    "print(\"\"\"Data in the \"Menu\" table:\"\"\")\n",
    "print(cols)\n",
    "for result in results:\n",
    "    print(result)"
   ]
  },
  {
   "cell_type": "code",
   "execution_count": 37,
   "id": "463814d0",
   "metadata": {},
   "outputs": [
    {
     "name": "stdout",
     "output_type": "stream",
     "text": [
      "The cursor is closed.\n",
      "MySQL connection is closed.\n"
     ]
    }
   ],
   "source": [
    "# Let's close the cursor and the connection\n",
    "if connection.is_connected():\n",
    "    cursor.close()\n",
    "    print(\"The cursor is closed.\")\n",
    "    connection.close()\n",
    "    print(\"MySQL connection is closed.\")\n",
    "else:\n",
    "    print(\"Connection is already closed\")"
   ]
  }
 ],
 "metadata": {
  "kernelspec": {
   "display_name": "Python 3 (ipykernel)",
   "language": "python",
   "name": "python3"
  },
  "language_info": {
   "codemirror_mode": {
    "name": "ipython",
    "version": 3
   },
   "file_extension": ".py",
   "mimetype": "text/x-python",
   "name": "python",
   "nbconvert_exporter": "python",
   "pygments_lexer": "ipython3",
   "version": "3.9.13"
  }
 },
 "nbformat": 4,
 "nbformat_minor": 5
}
